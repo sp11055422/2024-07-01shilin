{
 "cells": [
  {
   "cell_type": "code",
   "execution_count": 8,
   "metadata": {},
   "outputs": [
    {
     "name": "stdout",
     "output_type": "stream",
     "text": [
      "我家有一個人\n",
      "\t你猜是誰\n",
      "\t是大胖胖\n"
     ]
    }
   ],
   "source": [
    "print(\"我家有一個人\\n\\t你猜是誰\\n\\t是大胖胖\")"
   ]
  },
  {
   "cell_type": "code",
   "execution_count": 7,
   "metadata": {},
   "outputs": [
    {
     "name": "stdout",
     "output_type": "stream",
     "text": [
      "我家有一個人\n",
      "你猜是誰\n",
      "是大胖胖\n"
     ]
    }
   ],
   "source": [
    "print(\"\"\"我家有一個人\n",
    "你猜是誰\n",
    "是大胖胖\"\"\")"
   ]
  },
  {
   "cell_type": "code",
   "execution_count": 25,
   "metadata": {},
   "outputs": [
    {
     "name": "stdout",
     "output_type": "stream",
     "text": [
      "1-2-3-a-b-c.\n"
     ]
    }
   ],
   "source": [
    "print(1,2,3,\"a\",\"b\",\"c\",sep=\"-\",end='.\\n')"
   ]
  },
  {
   "cell_type": "code",
   "execution_count": 40,
   "metadata": {},
   "outputs": [
    {
     "name": "stdout",
     "output_type": "stream",
     "text": [
      "有5個同性戀\n",
      "有6個男生\n",
      "有7個女生\n"
     ]
    }
   ],
   "source": [
    "gay=eval(input(\"請輸入有幾個同性戀\"))\n",
    "man=eval(input(\"請輸入有幾個男生\"))\n",
    "woman=eval(input(\"請輸入有幾個女生\"))\n",
    "print(f\"有{gay}個同性戀\\n有{man}個男生\\n有{woman}個女生\")"
   ]
  },
  {
   "cell_type": "code",
   "execution_count": 45,
   "metadata": {},
   "outputs": [
    {
     "name": "stdout",
     "output_type": "stream",
     "text": [
      "你好,我是唐氏症基金會會長\n",
      "你的名子是lin\n",
      "你今天吃的糖共5公克\\蛋蛋白質共10公克\n",
      "肉類共0公克\n",
      "你今天的卡路里是80卡\n",
      "女姓的卡路里應介於12 00-1500大卡\n",
      "男性的卡路里應介於1500-1800大卡\n"
     ]
    }
   ],
   "source": [
    "name=input(\"請輸入姓名請輸入姓名\")\n",
    "s=eval(input(\"你今天吃了幾公克的糖\"))\n",
    "e=eval(input(\"你今天吃了幾公克的蛋白質\"))\n",
    "m=eval(input(\"你今天吃了幾公克的肉\"))\n",
    "k=m*9+e*4+e*4\n",
    "print(f\"你好,我是唐氏症基金會會長\\n你的名子是{name}\\n你今天吃的糖共{s}公克\\蛋蛋白質共{e}公克\\n肉類共{m}公克\\n你今天的卡路里是{k}卡\")\n",
    "print(\"女姓的卡路里應介於12 00-1500大卡\")\n",
    "print(\"男性的卡路里應介於1500-1800大卡\")"
   ]
  },
  {
   "cell_type": "code",
   "execution_count": 8,
   "metadata": {},
   "outputs": [
    {
     "name": "stdout",
     "output_type": "stream",
     "text": [
      "對邊:20\n",
      "斜邊:50\n",
      "角度:23.58\n"
     ]
    }
   ],
   "source": [
    "import math\n",
    "side=eval(input(\"請輸入對邊\"))\n",
    "another_side=eval(input(\"請輸入斜邊\"))\n",
    "radian=math.asin(side/another_side)\n",
    "degree=math.degrees(radian)\n",
    "print(f\"對邊:{side}\\n斜邊:{another_side}\\n角度:{round(degree,ndigits=2)}\")"
   ]
  },
  {
   "cell_type": "code",
   "execution_count": 11,
   "metadata": {},
   "outputs": [
    {
     "name": "stdout",
     "output_type": "stream",
     "text": [
      "你好大胖胖\n",
      "現在溫度是40度\n",
      "(風速是355.0)\n"
     ]
    }
   ],
   "source": [
    "t=eval(input(\"請請輸入現在的溫度\"))\n",
    "v=331+0.6*t\n",
    "print(f\"你好大胖胖\\n現在溫度是{t}度\\n(風速是{round(v,ndigits=2)})\")\n"
   ]
  },
  {
   "cell_type": "code",
   "execution_count": 19,
   "metadata": {},
   "outputs": [
    {
     "name": "stdout",
     "output_type": "stream",
     "text": [
      "數字[0,5,9,14]的加總是28,標準差是5.94\n",
      "數字[5,6,8,9]的加總是28,標準差是1.83\n"
     ]
    }
   ],
   "source": [
    "import statistics\n",
    "sum1=sum([0,5,9,14])\n",
    "sum2=sum([5,6,8,9])\n",
    "std1=statistics.stdev([0,5,9,14])\n",
    "std2=statistics.stdev([5,6,8,9])\n",
    "print(f\"數字[0,5,9,14]的加總是{sum1},標準差是{round(std1,ndigits=2)}\\n數字[5,6,8,9]的加總是{sum2},標準差是{round(std2,ndigits=2)}\")"
   ]
  },
  {
   "cell_type": "markdown",
   "metadata": {},
   "source": []
  },
  {
   "cell_type": "code",
   "execution_count": 9,
   "metadata": {},
   "outputs": [
    {
     "name": "stdout",
     "output_type": "stream",
     "text": [
      "成年\n"
     ]
    }
   ],
   "source": [
    "age=eval(input(\"你現在的年齡\"))\n",
    "if age>18:\n",
    "    print(\"成年\")\n",
    "else:\n",
    "    print(\"未成年\")\n",
    "print(\"應用程式結束\")"
   ]
  },
  {
   "cell_type": "code",
   "execution_count": 16,
   "metadata": {},
   "outputs": [
    {
     "name": "stdout",
     "output_type": "stream",
     "text": [
      "學生總分是294.0\n",
      "應用程式結束\n"
     ]
    }
   ],
   "source": [
    "\n",
    "try:\n",
    "    score=int(input(\"請輸入學生分數(最高300分)\"))\n",
    "except:\n",
    "    print(\"輸入格式有誤\")\n",
    "\n",
    "else:\n",
    "    add=input(\"學生是否符和加分條件(y,n)\")\n",
    "    if add==\"y\":\n",
    "        score*=1.05\n",
    "        if score>300:\n",
    "            score=300\n",
    "\n",
    "        print(f\"學生總分是{score}\")\n",
    "print(\"應用程式結束\")\n"
   ]
  },
  {
   "cell_type": "code",
   "execution_count": 50,
   "metadata": {},
   "outputs": [
    {
     "name": "stdout",
     "output_type": "stream",
     "text": [
      "這是負數,且這是偶數\n",
      "應用程式結束\n"
     ]
    }
   ],
   "source": [
    "number=int(input(\"請輸入一個整數\"))\n",
    "if number<0:\n",
    "    if number%2==1:\n",
    "        print(\"這是負數,且這是基數\")\n",
    "\n",
    "    else:\n",
    "        print(\"這是負數,且這是偶數\")\n",
    "if number>0:\n",
    "    if number%2==0:\n",
    "        print(\"這是正數,且這是偶數\")\n",
    "    else:\n",
    "        print(\"這是正數,且這是基數\")\n",
    "if number==0:\n",
    "    if number==0:\n",
    "        print(\"這是0,且這是偶數\")\n",
    "print(\"應用程式結束\")\n",
    "\n",
    "        \n"
   ]
  },
  {
   "cell_type": "code",
   "execution_count": 8,
   "metadata": {},
   "outputs": [
    {
     "name": "stdout",
     "output_type": "stream",
     "text": [
      "5050\n"
     ]
    }
   ],
   "source": [
    "a=0\n",
    "for i in range(1,101):\n",
    "    a+=i\n",
    "print(a)"
   ]
  },
  {
   "cell_type": "code",
   "execution_count": 14,
   "metadata": {},
   "outputs": [
    {
     "name": "stdout",
     "output_type": "stream",
     "text": [
      "1\n",
      "2\n",
      "4\n",
      "5\n",
      "8\n",
      "10\n",
      "16\n",
      "20\n",
      "40\n",
      "80\n"
     ]
    }
   ],
   "source": [
    "n=int(input(\"請輸入一個數\"))\n",
    "for a in range(1,n+1):\n",
    "    if n%a==0:\n",
    "        print(a)"
   ]
  },
  {
   "cell_type": "code",
   "execution_count": 15,
   "metadata": {},
   "outputs": [
    {
     "data": {
      "text/plain": [
       "70"
      ]
     },
     "execution_count": 15,
     "metadata": {},
     "output_type": "execute_result"
    }
   ],
   "source": [
    "n1=50\n",
    "n2=70\n",
    "max==n1 if n1>n2 else n2"
   ]
  },
  {
   "cell_type": "code",
   "execution_count": 2,
   "metadata": {},
   "outputs": [
    {
     "name": "stdout",
     "output_type": "stream",
     "text": [
      "1\n",
      "2\n",
      "5\n",
      "10\n"
     ]
    }
   ],
   "source": [
    "totle1=0\n",
    "totle2=0\n",
    "num1=int(input(\"請輸入第一個數\"))\n",
    "num2=int(input(\"請輸入第二個數\"))\n",
    "\n",
    "for a in range(1,num1+1):\n",
    "    if num1%a==0:\n",
    "        a\n",
    "               \n",
    "for b in range(1,num2+1):\n",
    "    if num2%b==0:\n",
    "        b\n",
    "        if num1%b==0:\n",
    "            print(b)   \n",
    "\n",
    "       \n",
    "        "
   ]
  },
  {
   "cell_type": "code",
   "execution_count": null,
   "metadata": {},
   "outputs": [],
   "source": [
    "name=input(\"請輸入姓名\")\n",
    "tall=eval(input(\"請輸入身高(公尺)\"))\n",
    "heave=eval(input(\"請輸入體重\"))\n",
    "BMI=heave/tall**2\n",
    "if BMI<18.5:\n",
    "    print(\"過輕\")\n",
    "if 18.5<=BMI<24:\n",
    "    print(\"體重適中\")\n",
    "if BMI>=35:\n",
    "    print(\"重度肥胖\")\n",
    "elif BMI>=30:\n",
    "    print(\"中度肥胖\")\n",
    "elif BMI>=27:\n",
    "    print(\"輕度肥胖\")\n",
    "elif BMI>=24:\n",
    "    print(\"過重\")\n",
    "    \n",
    "\n",
    "\n",
    "\n",
    "\n"
   ]
  },
  {
   "cell_type": "code",
   "execution_count": null,
   "metadata": {},
   "outputs": [],
   "source": []
  },
  {
   "cell_type": "code",
   "execution_count": 1,
   "metadata": {},
   "outputs": [
    {
     "name": "stdout",
     "output_type": "stream",
     "text": [
      "請輸入體重Blank values are not allowed.\n",
      "請輸入體重Blank values are not allowed.\n",
      "請輸入體重'q' is not a number.\n",
      "請輸入體重Blank values are not allowed.\n",
      "請輸入體重Blank values are not allowed.\n",
      "請輸入體重Blank values are not allowed.\n",
      "請輸入體重Blank values are not allowed.\n",
      "請輸入體重"
     ]
    }
   ],
   "source": [
    "import pyinputplus as pyip\n",
    "while True:\n",
    "    \n",
    "    name=input(\"請輸入姓名,(按[q]離開)\")\n",
    "    if name==\"q\":\n",
    "        break\n",
    "   \n",
    "    if tall==\"q\":\n",
    "            break\n",
    "    heave=input(\"請輸入體重(kg),(按[q]離開)\")\n",
    "    if heave==\"q\":\n",
    "            break\n",
    "    try:\n",
    "        n=name\n",
    "        h=eval(tall)\n",
    "        a=eval(heave)\n",
    "        BMI=a/h**2\n",
    "        g=round(BMI,ndigits=2)\n",
    "        if BMI<18.5:\n",
    "         print(f\"你的名子是{n}\\n體重是{a}\\n身高是{h}\\n體重過輕\")\n",
    "        if 18.5<=BMI<24:\n",
    "                print(f\"你的名子是{n}\\n體重是{a}公斤\\n身高是{h}公尺\\nBMI是{g}\\n體重適中\")\n",
    "        if BMI>=35:\n",
    "                print(f\"你的名子是{n}\\n體重是{a}公斤\\n身高是{h}公尺\\nBMI是{g}\\n重度肥胖\")\n",
    "        elif BMI>=30:\n",
    "                print(f\"你的名子是{n}\\n體重是{a}公斤\\n身高是{h}公尺\\nBMI是{g}\\n中度肥胖\")\n",
    "        elif BMI>=27:\n",
    "                print(f\"你的名子是{n}\\n體重是{a}公斤\\n身高是{h}公尺\\nBMI是{g}\\n輕度肥胖\")\n",
    "        elif BMI>=24:\n",
    "                print(f\"你的名子是{n}\\n體重是{a}公斤\\n身高是{h}公尺\\nBMI是{g}\\n體重過重\")\n",
    "        y=input(\"請問是否繼續(c,q)\")\n",
    "        if y==\"q\":\n",
    "         break\n",
    "        if y==\"c\":\n",
    "             continue\n",
    "    except:\n",
    "        print(\"輸入格式有誤,請重新輸入\")\n",
    "        continue\n",
    "print(\"應用程式結束\")\n",
    "   \n",
    "    \n",
    "    \n",
    "    \n",
    "        \n",
    "        \n",
    "\n",
    "\n",
    "    "
   ]
  },
  {
   "cell_type": "code",
   "execution_count": 2,
   "metadata": {},
   "outputs": [],
   "source": [
    "import pyinputplus as pyip"
   ]
  },
  {
   "cell_type": "code",
   "execution_count": 11,
   "metadata": {},
   "outputs": [
    {
     "name": "stdout",
     "output_type": "stream",
     "text": [
      "應用程式結束\n"
     ]
    }
   ],
   "source": [
    "while True:\n",
    "    letter = input(\"請輸入整數,輸入[q]離開:\")\n",
    "    if letter == 'q':\n",
    "        break\n",
    "    try:\n",
    "        number = int(letter)\n",
    "    except:\n",
    "        print('輸入格式錯誤,請重新輸入')\n",
    "        continue\n",
    "    \n",
    "    if not number % 2 == 0:\n",
    "        print(number ** 2)\n",
    "\n",
    "print(\"應用程式結束\")"
   ]
  },
  {
   "cell_type": "code",
   "execution_count": 3,
   "metadata": {},
   "outputs": [
    {
     "name": "stdout",
     "output_type": "stream",
     "text": [
      "=======猜字遊戲=======\n",
      "在小一點\n",
      "你共猜了1次\n",
      "在小一點\n",
      "你共猜了2次\n",
      "在小一點\n",
      "你共猜了3次\n",
      "在小一點\n",
      "你共猜了4次\n",
      "在小一點\n",
      "你共猜了5次\n",
      "在小一點\n",
      "你共猜了6次\n",
      "在大一點\n",
      "你共猜了7次\n",
      "在大一點\n",
      "你共猜了8次\n",
      "恭喜猜中,你更猜了8次\n",
      "在大一點\n",
      "你共猜了2次\n",
      "在大一點\n",
      "你共猜了3次\n",
      "在大一點\n",
      "你共猜了4次\n",
      "在大一點\n",
      "你共猜了5次\n",
      "恭喜猜中,你更猜了5次\n",
      "應用程式結束\n"
     ]
    }
   ],
   "source": [
    "import random\n",
    "print('=======猜字遊戲=======')\n",
    "mix=1\n",
    "max=100\n",
    "tage=random.randint(mix,max)\n",
    "count=0\n",
    "while True:\n",
    "    try:\n",
    "        number=int(input(f'請輸入一個數,範圍{mix}-{max}'))\n",
    "        \n",
    "    except:\n",
    "        print(\"輸入格式有誤\")\n",
    "        count+=1\n",
    "        continue\n",
    "    if number>max or number<mix:\n",
    "        print('抄出範圍')\n",
    "        continue\n",
    "    if number==tage:\n",
    "        print(f'恭喜猜中,你更猜了{count}次')\n",
    "        n=input('是否繼續(y,n)')\n",
    "        if n==\"n\":\n",
    "            break\n",
    "        else:\n",
    "            mix=1\n",
    "            max=100\n",
    "            count=1\n",
    "            tage=random.randint(mix,max)\n",
    "            continue\n",
    "    if number>tage:\n",
    "        max=number-1\n",
    "        print('在小一點')\n",
    "        count+=1\n",
    "    if number<tage:\n",
    "        mix=number+1\n",
    "        print('在大一點')\n",
    "        count+=1\n",
    "    print(f'你共猜了{count}次')\n",
    "print('應用程式結束')\n",
    "\n",
    "\n",
    " \n"
   ]
  }
 ],
 "metadata": {
  "kernelspec": {
   "display_name": "Python 3",
   "language": "python",
   "name": "python3"
  },
  "language_info": {
   "codemirror_mode": {
    "name": "ipython",
    "version": 3
   },
   "file_extension": ".py",
   "mimetype": "text/x-python",
   "name": "python",
   "nbconvert_exporter": "python",
   "pygments_lexer": "ipython3",
   "version": "3.10.13"
  }
 },
 "nbformat": 4,
 "nbformat_minor": 2
}
