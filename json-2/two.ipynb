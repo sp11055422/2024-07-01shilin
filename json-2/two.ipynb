{
 "cells": [
  {
   "cell_type": "code",
   "execution_count": null,
   "metadata": {},
   "outputs": [],
   "source": [
    "import pandas as pd\n",
    "import json\n",
    "from os.path import abspath,dirname,join\n",
    "man=join(dirname(abspath(__name__)),'data','燕巢區.json')\n",
    "man\n",
    "with open(man,encoding='utf-8',newline='') as file:\n",
    "    MAN=json.load(file)\n",
    "    woman=pd.DataFrame(MAN)\n",
    "woman"
   ]
  }
 ],
 "metadata": {
  "kernelspec": {
   "display_name": "Python 3",
   "language": "python",
   "name": "python3"
  },
  "language_info": {
   "codemirror_mode": {
    "name": "ipython",
    "version": 3
   },
   "file_extension": ".py",
   "mimetype": "text/x-python",
   "name": "python",
   "nbconvert_exporter": "python",
   "pygments_lexer": "ipython3",
   "version": "3.10.13"
  }
 },
 "nbformat": 4,
 "nbformat_minor": 2
}
