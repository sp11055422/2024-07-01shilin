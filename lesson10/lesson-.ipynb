{
 "cells": [
  {
   "cell_type": "code",
   "execution_count": null,
   "metadata": {},
   "outputs": [],
   "source": [
    "import pyinputplus as pyip\n",
    "class Person():\n",
    "\n",
    "    def __init__(self,n:str,he:int,we:int):\n",
    "        self.name=n\n",
    "        self.height=he\n",
    "        self.weight=we\n",
    "        \n",
    "    def getBmi(self)->float:\n",
    "        return  self.weight/ (self.height/100) **2\n",
    "    \n",
    "  \n",
    "    def get_status(self) -> str:\n",
    "        if self.getBmi()>=35:\n",
    "            return '重度肥胖'\n",
    "        elif self.getBmi()>=30:\n",
    "            return '中度肥胖'\n",
    "        elif self.getBmi()>=27:\n",
    "            return '清度肥胖'\n",
    "        elif self.getBmi()>=24:\n",
    "            return '過重'\n",
    "        elif self.getBmi()>=18.5:\n",
    "            return '體重正常'\n",
    "n = pyip.inputStr(\"請輸入姓名：\")\n",
    "print(n)\n",
    "he = pyip.inputNum(\"請輸入身高\")\n",
    "print(he)\n",
    "we = pyip.inputNum(\"請輸入體重\")\n",
    "print(we)\n",
    "print('==========================')\n",
    "\n",
    "def bmi_print():\n",
    "\n",
    "    return f'你好,你的名子是{self.name}\\n身高是{self.height}\\n體重是{self.weight}\\nbmi是{round(self.getBmi(),ndigits=2)}\\n體重狀況是{self.get_status()}'"
   ]
  }
 ],
 "metadata": {
  "kernelspec": {
   "display_name": "Python 3",
   "language": "python",
   "name": "python3"
  },
  "language_info": {
   "codemirror_mode": {
    "name": "ipython",
    "version": 3
   },
   "file_extension": ".py",
   "mimetype": "text/x-python",
   "name": "python",
   "nbconvert_exporter": "python",
   "pygments_lexer": "ipython3",
   "version": "3.10.13"
  }
 },
 "nbformat": 4,
 "nbformat_minor": 2
}
