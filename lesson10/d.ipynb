{
 "cells": [
  {
   "cell_type": "code",
   "execution_count": 1,
   "metadata": {},
   "outputs": [
    {
     "name": "stdout",
     "output_type": "stream",
     "text": [
      "['蔡偉成']你好\n",
      "身高是：157公分\n",
      "體重是：51公斤\n",
      "BMI:20.69\n",
      "體重正常\n"
     ]
    }
   ],
   "source": [
    "import random\n",
    "\n",
    "class Person():\n",
    "    \n",
    "       \n",
    "    def __init__(self,n:str,h:int,w:int):\n",
    "        file=open('names.txt',encoding='utf-8')\n",
    "        content=(file.read())\n",
    "        file.close()\n",
    "        names=content.split()\n",
    "        self.name = random.choices(names)\n",
    "        self.height =random.randint(150,190)\n",
    "        self.weight =random.randint(50,90)\n",
    "    \n",
    "    \n",
    "\n",
    "    def getBmi(self) -> float:\n",
    "        return self.weight / (self.height/100) ** 2\n",
    "    \n",
    "    def get_status(self) -> str:\n",
    "        bmi:float = self.getBmi()\n",
    "        if bmi >= 35:\n",
    "            return '重度肥胖'\n",
    "        elif bmi >= 30:\n",
    "            return '中度肥胖'\n",
    "        elif bmi >= 27:\n",
    "            return '輕度肥胖'\n",
    "        elif bmi >= 24:\n",
    "            return '體重過重'\n",
    "        elif bmi >= 18.5:\n",
    "            return '體重正常'\n",
    "        else:\n",
    "            return '體重過輕'\n",
    "    def bmi_print(self)->str:\n",
    "        return f\"{self.name}你好\\n身高是：{self.height}公分\\n體重是：{self.weight}公斤\\nBMI:{round(self.getBmi(),ndigits=2)}\\n{self.get_status()}\"\n",
    "file=open('names.txt',encoding='utf-8')\n",
    "content=(file.read())\n",
    "file.close()\n",
    "names=content.split()\n",
    "name = random.choices(names)\n",
    "height =random.randint(150,190)\n",
    "weight =random.randint(50,90)\n",
    "p1=Person(name,height,weight)\n",
    "print(p1.bmi_print())\n",
    "\n",
    "    \n",
    "\n"
   ]
  }
 ],
 "metadata": {
  "kernelspec": {
   "display_name": "Python 3",
   "language": "python",
   "name": "python3"
  },
  "language_info": {
   "codemirror_mode": {
    "name": "ipython",
    "version": 3
   },
   "file_extension": ".py",
   "mimetype": "text/x-python",
   "name": "python",
   "nbconvert_exporter": "python",
   "pygments_lexer": "ipython3",
   "version": "3.10.13"
  }
 },
 "nbformat": 4,
 "nbformat_minor": 2
}
