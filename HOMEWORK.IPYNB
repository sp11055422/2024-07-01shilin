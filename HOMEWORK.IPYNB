{
 "cells": [
  {
   "cell_type": "code",
   "execution_count": 18,
   "metadata": {},
   "outputs": [
    {
     "name": "stdout",
     "output_type": "stream",
     "text": [
      "yang kai xuan您好)\n",
      "      身高是1.7公尺\n",
      "      體重是60公斤\n",
      "      BMI為20.76\n"
     ]
    }
   ],
   "source": [
    "name = (input(\"請輸入姓名:\"))\n",
    "\n",
    "tall=eval(input(\"請輸入身高(m)\"))\n",
    "weight=eval(input(\"請輸入體重(kg)\"))\n",
    "BMI=(weight)/(tall**2)\n",
    "print(f\"\"\"{name}您好)\n",
    "      身高是{tall}公尺\n",
    "      體重是{weight}公斤\n",
    "      BMI為{round(BMI,ndigits=2)}\"\"\")\n",
    "\n",
    "\n"
   ]
  }
 ],
 "metadata": {
  "kernelspec": {
   "display_name": "Python 3",
   "language": "python",
   "name": "python3"
  },
  "language_info": {
   "codemirror_mode": {
    "name": "ipython",
    "version": 3
   },
   "file_extension": ".py",
   "mimetype": "text/x-python",
   "name": "python",
   "nbconvert_exporter": "python",
   "pygments_lexer": "ipython3",
   "version": "3.10.13"
  }
 },
 "nbformat": 4,
 "nbformat_minor": 2
}
