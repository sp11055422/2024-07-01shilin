{
 "cells": [
  {
   "cell_type": "code",
   "execution_count": 1,
   "metadata": {},
   "outputs": [],
   "source": [
    "import os \n",
    "current_path=os.path.dirname(os.path.abspath(__name__))\n",
    "folder_path= os.path.join(current_path,'每日各站進出站人數')\n",
    "fileName_list=[]\n",
    "for filename in os.listdir(folder_path):\n",
    "    if '每日各站進出站人數' in filename:\n",
    "       fileName_list.append(os.path.join(folder_path,filename)) "
   ]
  },
  {
   "cell_type": "code",
   "execution_count": 11,
   "metadata": {},
   "outputs": [
    {
     "name": "stdout",
     "output_type": "stream",
     "text": [
      "<class 'pandas.core.frame.DataFrame'>\n",
      "RangeIndex: 243 entries, 0 to 242\n",
      "Data columns (total 10 columns):\n",
      " #   Column         Non-Null Count  Dtype \n",
      "---  ------         --------------  ----- \n",
      " 0   stationCode    243 non-null    int64 \n",
      " 1   stationName    243 non-null    object\n",
      " 2   stationEName   243 non-null    object\n",
      " 3   name           243 non-null    object\n",
      " 4   ename          243 non-null    object\n",
      " 5   stationAddrTw  243 non-null    object\n",
      " 6   stationAddrEn  243 non-null    object\n",
      " 7   stationTel     243 non-null    object\n",
      " 8   gps            243 non-null    object\n",
      " 9   haveBike       243 non-null    object\n",
      "dtypes: int64(1), object(9)\n",
      "memory usage: 19.1+ KB\n"
     ]
    }
   ],
   "source": [
    "import pandas as pd\n",
    "import json\n",
    "from pprint import pprint\n",
    "#車站名稱\n",
    "stations_path = os.path.join(folder_path,'車站基本資料集.json')\n",
    "with open(stations_path,encoding='utf-8') as file:\n",
    "    s=json.load(file)\n",
    "sa=pd.DataFrame(s)\n",
    "\n",
    "\n",
    "sa['stationCode']=sa['stationCode'].astype(int)\n",
    "sa.info()"
   ]
  },
  {
   "cell_type": "code",
   "execution_count": 5,
   "metadata": {},
   "outputs": [
    {
     "name": "stdout",
     "output_type": "stream",
     "text": [
      "<class 'pandas.core.frame.DataFrame'>\n",
      "RangeIndex: 86932 entries, 0 to 86931\n",
      "Data columns (total 4 columns):\n",
      " #   Column           Non-Null Count  Dtype\n",
      "---  ------           --------------  -----\n",
      " 0   trnOpDate        86932 non-null  int64\n",
      " 1   staCode          86932 non-null  int64\n",
      " 2   gateInComingCnt  86932 non-null  int64\n",
      " 3   gateOutGoingCnt  86932 non-null  int64\n",
      "dtypes: int64(4)\n",
      "memory usage: 2.7 MB\n"
     ]
    }
   ],
   "source": [
    "inout =pd.read_csv(fileName_list[0])\n",
    "inout.info()"
   ]
  },
  {
   "cell_type": "code",
   "execution_count": null,
   "metadata": {},
   "outputs": [],
   "source": [
    "df1=pd.merge(inout,sa,left_on='staCode',right_on='stationCode')\n",
    "df2 = df1.reindex(columns=['trnOpDate','stationName','gateInComingCnt','gateOutGoingCnt'])\n",
    "df3 = df2.rename(columns={'trnOpDate':'日期',\n",
    "                    'stationName':'站名',\n",
    "                    'gateInComingCnt':'進站',\n",
    "                    'gateOutGoingCnt':'出站'\n",
    "                    })\n",
    "df3"
   ]
  }
 ],
 "metadata": {
  "kernelspec": {
   "display_name": "Python 3",
   "language": "python",
   "name": "python3"
  },
  "language_info": {
   "codemirror_mode": {
    "name": "ipython",
    "version": 3
   },
   "file_extension": ".py",
   "mimetype": "text/x-python",
   "name": "python",
   "nbconvert_exporter": "python",
   "pygments_lexer": "ipython3",
   "version": "3.10.13"
  }
 },
 "nbformat": 4,
 "nbformat_minor": 2
}
