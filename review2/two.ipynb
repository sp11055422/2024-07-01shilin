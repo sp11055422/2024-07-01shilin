{
 "cells": [
  {
   "cell_type": "code",
   "execution_count": 3,
   "metadata": {},
   "outputs": [
    {
     "data": {
      "text/plain": [
       "'/workspaces/2024-07-01shilin/review2/data/csv-1.csv'"
      ]
     },
     "execution_count": 3,
     "metadata": {},
     "output_type": "execute_result"
    }
   ],
   "source": [
    "from os.path import abspath,dirname,join\n",
    "man=join(dirname(abspath(__name__)),'data','csv-1.csv')\n",
    "man"
   ]
  },
  {
   "cell_type": "code",
   "execution_count": 4,
   "metadata": {},
   "outputs": [
    {
     "data": {
      "text/html": [
       "<div>\n",
       "<style scoped>\n",
       "    .dataframe tbody tr th:only-of-type {\n",
       "        vertical-align: middle;\n",
       "    }\n",
       "\n",
       "    .dataframe tbody tr th {\n",
       "        vertical-align: top;\n",
       "    }\n",
       "\n",
       "    .dataframe thead th {\n",
       "        text-align: right;\n",
       "    }\n",
       "</style>\n",
       "<table border=\"1\" class=\"dataframe\">\n",
       "  <thead>\n",
       "    <tr style=\"text-align: right;\">\n",
       "      <th></th>\n",
       "      <th>﻿項目別</th>\n",
       "      <th>資料內容</th>\n",
       "    </tr>\n",
       "  </thead>\n",
       "  <tbody>\n",
       "    <tr>\n",
       "      <th>0</th>\n",
       "      <td>主任委員</td>\n",
       "      <td>劉里長俊彥</td>\n",
       "    </tr>\n",
       "    <tr>\n",
       "      <th>1</th>\n",
       "      <td>本棟建物面積</td>\n",
       "      <td>一層約407坪、二層約183坪、三層51坪、地下一層約59坪。</td>\n",
       "    </tr>\n",
       "    <tr>\n",
       "      <th>2</th>\n",
       "      <td>本建物結構</td>\n",
       "      <td>鋼筋混凝土構造。</td>\n",
       "    </tr>\n",
       "    <tr>\n",
       "      <th>3</th>\n",
       "      <td>使用里別</td>\n",
       "      <td>仁武里里民</td>\n",
       "    </tr>\n",
       "    <tr>\n",
       "      <th>4</th>\n",
       "      <td>使用現況</td>\n",
       "      <td>1、提供民眾休閒娛樂之集會場所2、租借場地便利民眾辦理喜宴事宜、舉辦大型活動及各項藝文講座活動。</td>\n",
       "    </tr>\n",
       "    <tr>\n",
       "      <th>5</th>\n",
       "      <td>活動中心地址</td>\n",
       "      <td>高雄市仁武區仁祥街199號</td>\n",
       "    </tr>\n",
       "    <tr>\n",
       "      <th>6</th>\n",
       "      <td>服務電話</td>\n",
       "      <td>07-371-5161\\n0926210429(管理人員簡先生)</td>\n",
       "    </tr>\n",
       "    <tr>\n",
       "      <th>7</th>\n",
       "      <td>開放時間</td>\n",
       "      <td>週二休館，週三至週一(上午8時30分起至12時，下午2時至5時30分。)</td>\n",
       "    </tr>\n",
       "    <tr>\n",
       "      <th>8</th>\n",
       "      <td>活動中心管理要點及收費標準</td>\n",
       "      <td>仁武里活動中心管理要點及收費標準.pdf</td>\n",
       "    </tr>\n",
       "    <tr>\n",
       "      <th>9</th>\n",
       "      <td>座落土地使用分區</td>\n",
       "      <td>公園用地</td>\n",
       "    </tr>\n",
       "    <tr>\n",
       "      <th>10</th>\n",
       "      <td>是否成立管理委員會</td>\n",
       "      <td>是</td>\n",
       "    </tr>\n",
       "  </tbody>\n",
       "</table>\n",
       "</div>"
      ],
      "text/plain": [
       "             ﻿項目別                                              資料內容\n",
       "0            主任委員                                             劉里長俊彥\n",
       "1          本棟建物面積                   一層約407坪、二層約183坪、三層51坪、地下一層約59坪。\n",
       "2           本建物結構                                          鋼筋混凝土構造。\n",
       "3            使用里別                                             仁武里里民\n",
       "4            使用現況  1、提供民眾休閒娛樂之集會場所2、租借場地便利民眾辦理喜宴事宜、舉辦大型活動及各項藝文講座活動。\n",
       "5          活動中心地址                                     高雄市仁武區仁祥街199號\n",
       "6            服務電話                  07-371-5161\\n0926210429(管理人員簡先生)\n",
       "7            開放時間              週二休館，週三至週一(上午8時30分起至12時，下午2時至5時30分。)\n",
       "8   活動中心管理要點及收費標準                              仁武里活動中心管理要點及收費標準.pdf\n",
       "9        座落土地使用分區                                              公園用地\n",
       "10      是否成立管理委員會                                                 是"
      ]
     },
     "execution_count": 4,
     "metadata": {},
     "output_type": "execute_result"
    }
   ],
   "source": [
    "import pandas as pd\n",
    "from csv import DictReader\n",
    "with open(man,encoding='utf-8',newline='') as file:\n",
    "    gay=DictReader(file)\n",
    "    be=pd.DataFrame(gay)\n",
    "be"
   ]
  }
 ],
 "metadata": {
  "kernelspec": {
   "display_name": "Python 3",
   "language": "python",
   "name": "python3"
  },
  "language_info": {
   "codemirror_mode": {
    "name": "ipython",
    "version": 3
   },
   "file_extension": ".py",
   "mimetype": "text/x-python",
   "name": "python",
   "nbconvert_exporter": "python",
   "pygments_lexer": "ipython3",
   "version": "3.10.13"
  }
 },
 "nbformat": 4,
 "nbformat_minor": 2
}
