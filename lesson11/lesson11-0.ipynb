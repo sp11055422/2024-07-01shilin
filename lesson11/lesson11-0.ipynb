{
 "cells": [
  {
   "cell_type": "code",
   "execution_count": 16,
   "metadata": {},
   "outputs": [
    {
     "name": "stdout",
     "output_type": "stream",
     "text": [
      "沒有這個檔\n"
     ]
    }
   ],
   "source": [
    "import os\n",
    "file_path=os.path.abspath(__name__)\n",
    "current_dir_name=os.path.dirname(file_path)\n",
    "file_position=os.path.join(current_dir_name,'data','class.csv')\n",
    "if os.path.isfile(file_position):\n",
    "    print('有這個檔')\n",
    "else:\n",
    "    print('沒有這個檔')\n"
   ]
  },
  {
   "cell_type": "code",
   "execution_count": 20,
   "metadata": {},
   "outputs": [],
   "source": [
    "file=open(file_position,mode='w',encoding='utf-8')\n",
    "file.write('姓名,國文,英文,數學\\nyang kai xuan,87,92,96\\n') \n",
    "file.close()"
   ]
  },
  {
   "cell_type": "code",
   "execution_count": 23,
   "metadata": {},
   "outputs": [],
   "source": [
    "#自動關閉\n",
    "with open(file_position,mode='w',encoding='utf-8') as file:\n",
    "    file.write('姓名,國文,英文,數學\\nyang kai xuan,87,92,96\\n') \n"
   ]
  },
  {
   "cell_type": "code",
   "execution_count": 24,
   "metadata": {},
   "outputs": [
    {
     "data": {
      "text/plain": [
       "list"
      ]
     },
     "execution_count": 24,
     "metadata": {},
     "output_type": "execute_result"
    }
   ],
   "source": [
    "type([])"
   ]
  },
  {
   "cell_type": "code",
   "execution_count": 1,
   "metadata": {},
   "outputs": [
    {
     "data": {
      "text/plain": [
       "{'姓名': '楊', '國文': 50, '數學': 40, '英文': 47}"
      ]
     },
     "execution_count": 1,
     "metadata": {},
     "output_type": "execute_result"
    }
   ],
   "source": [
    "{'姓名':'楊','國文':50,'數學':40,'英文':47}"
   ]
  },
  {
   "cell_type": "code",
   "execution_count": 8,
   "metadata": {},
   "outputs": [
    {
     "data": {
      "text/plain": [
       "[{'姓名': '楊', '國文': 50, '數學': 40, '英文': 47},\n",
       " {'姓名': '胖', '國文': 57, '數學': 80, '英文': 97}]"
      ]
     },
     "execution_count": 8,
     "metadata": {},
     "output_type": "execute_result"
    }
   ],
   "source": [
    "#符號\n",
    "[\n",
    "{'姓名':'楊',\n",
    " '國文':50,\n",
    " '數學':40,\n",
    " '英文':47},\n",
    " {'姓名':'胖',\n",
    " '國文':57,\n",
    " '數學':80,\n",
    " '英文':97}\n",
    "\n",
    " ]"
   ]
  },
  {
   "cell_type": "code",
   "execution_count": 10,
   "metadata": {},
   "outputs": [
    {
     "data": {
      "text/plain": [
       "[{'姓名': '楊', '國文': 50, '數學': 40, '英文': 47},\n",
       " {'姓名': '胖', '國文': 57, '數學': 80, '英文': 97}]"
      ]
     },
     "execution_count": 10,
     "metadata": {},
     "output_type": "execute_result"
    }
   ],
   "source": [
    "#建立list實體\n",
    "student=list()\n",
    "student.append(\n",
    "{'姓名':'楊',\n",
    " '國文':50,\n",
    " '數學':40,\n",
    " '英文':47})\n",
    "\n",
    "student.append(\n",
    "{'姓名':'胖',\n",
    " '國文':57,\n",
    " '數學':80,\n",
    " '英文':97})\n",
    "\n",
    "student\n"
   ]
  },
  {
   "cell_type": "code",
   "execution_count": 12,
   "metadata": {},
   "outputs": [
    {
     "data": {
      "text/plain": [
       "['陳家維',\n",
       " '簡美君',\n",
       " '林志喜',\n",
       " '張韋成',\n",
       " '藍姿婷',\n",
       " '劉旭士',\n",
       " '黃志福',\n",
       " '林佳人',\n",
       " '王怡珊',\n",
       " '蔡明平',\n",
       " '黃佩玲',\n",
       " '周怡啟',\n",
       " '盧必妍',\n",
       " '賴昌韻',\n",
       " '吳晴洋',\n",
       " '黃嘉琪',\n",
       " '鄭奇翰',\n",
       " '楊健麟',\n",
       " '林義皓',\n",
       " '黃嘉琪',\n",
       " '王雅慧',\n",
       " '柯宜臻',\n",
       " '彭茹靖',\n",
       " '蔡士賢',\n",
       " '吳俐芷',\n",
       " '孫火清',\n",
       " '陳淑萍',\n",
       " '簡美君',\n",
       " '陳孝邦',\n",
       " '聶心怡',\n",
       " '翁羽威',\n",
       " '胡姿婷',\n",
       " '王展人',\n",
       " '鄭佳玲',\n",
       " '王展人',\n",
       " '蔡嘉音',\n",
       " '楊偉翔',\n",
       " '郭致恬',\n",
       " '黃淑芬',\n",
       " '賴昌韻',\n",
       " '詹忠光',\n",
       " '張牧聿',\n",
       " '盧必妍',\n",
       " '林士凱',\n",
       " '林益妏',\n",
       " '王士銘',\n",
       " '張明惟',\n",
       " '黃名明',\n",
       " '張莉雯',\n",
       " '蔡明平']"
      ]
     },
     "execution_count": 12,
     "metadata": {},
     "output_type": "execute_result"
    }
   ],
   "source": [
    "import random\n",
    "with open('names.txt',encoding='utf-8') as file:\n",
    "    contents:str = file.read()\n",
    "    names:list[str] = contents.split(sep='\\n')\n",
    "    student_name=random.choices(names,k=50)\n",
    "student_name"
   ]
  },
  {
   "cell_type": "code",
   "execution_count": 21,
   "metadata": {},
   "outputs": [
    {
     "data": {
      "text/plain": [
       "[{'姓名': '陳家維', '國文': 100, '英文': 95, '數學': 57},\n",
       " {'姓名': '簡美君', '國文': 66, '英文': 89, '數學': 78},\n",
       " {'姓名': '林志喜', '國文': 61, '英文': 86, '數學': 57},\n",
       " {'姓名': '張韋成', '國文': 54, '英文': 84, '數學': 94},\n",
       " {'姓名': '藍姿婷', '國文': 77, '英文': 70, '數學': 55},\n",
       " {'姓名': '劉旭士', '國文': 57, '英文': 54, '數學': 100},\n",
       " {'姓名': '黃志福', '國文': 56, '英文': 59, '數學': 80},\n",
       " {'姓名': '林佳人', '國文': 75, '英文': 100, '數學': 77},\n",
       " {'姓名': '王怡珊', '國文': 65, '英文': 53, '數學': 100},\n",
       " {'姓名': '蔡明平', '國文': 92, '英文': 60, '數學': 58},\n",
       " {'姓名': '黃佩玲', '國文': 74, '英文': 89, '數學': 69},\n",
       " {'姓名': '周怡啟', '國文': 57, '英文': 92, '數學': 66},\n",
       " {'姓名': '盧必妍', '國文': 77, '英文': 73, '數學': 96},\n",
       " {'姓名': '賴昌韻', '國文': 69, '英文': 51, '數學': 76},\n",
       " {'姓名': '吳晴洋', '國文': 70, '英文': 94, '數學': 77},\n",
       " {'姓名': '黃嘉琪', '國文': 63, '英文': 82, '數學': 94},\n",
       " {'姓名': '鄭奇翰', '國文': 94, '英文': 74, '數學': 62},\n",
       " {'姓名': '楊健麟', '國文': 81, '英文': 83, '數學': 95},\n",
       " {'姓名': '林義皓', '國文': 80, '英文': 82, '數學': 59},\n",
       " {'姓名': '黃嘉琪', '國文': 66, '英文': 55, '數學': 62},\n",
       " {'姓名': '王雅慧', '國文': 91, '英文': 56, '數學': 93},\n",
       " {'姓名': '柯宜臻', '國文': 93, '英文': 78, '數學': 77},\n",
       " {'姓名': '彭茹靖', '國文': 92, '英文': 73, '數學': 82},\n",
       " {'姓名': '蔡士賢', '國文': 95, '英文': 60, '數學': 84},\n",
       " {'姓名': '吳俐芷', '國文': 95, '英文': 80, '數學': 89},\n",
       " {'姓名': '孫火清', '國文': 62, '英文': 88, '數學': 100},\n",
       " {'姓名': '陳淑萍', '國文': 92, '英文': 86, '數學': 67},\n",
       " {'姓名': '簡美君', '國文': 98, '英文': 54, '數學': 100},\n",
       " {'姓名': '陳孝邦', '國文': 62, '英文': 68, '數學': 95},\n",
       " {'姓名': '聶心怡', '國文': 93, '英文': 51, '數學': 96},\n",
       " {'姓名': '翁羽威', '國文': 75, '英文': 72, '數學': 88},\n",
       " {'姓名': '胡姿婷', '國文': 99, '英文': 71, '數學': 91},\n",
       " {'姓名': '王展人', '國文': 89, '英文': 71, '數學': 54},\n",
       " {'姓名': '鄭佳玲', '國文': 93, '英文': 53, '數學': 68},\n",
       " {'姓名': '王展人', '國文': 97, '英文': 91, '數學': 99},\n",
       " {'姓名': '蔡嘉音', '國文': 69, '英文': 52, '數學': 82},\n",
       " {'姓名': '楊偉翔', '國文': 72, '英文': 84, '數學': 50},\n",
       " {'姓名': '郭致恬', '國文': 91, '英文': 65, '數學': 91},\n",
       " {'姓名': '黃淑芬', '國文': 56, '英文': 99, '數學': 82},\n",
       " {'姓名': '賴昌韻', '國文': 62, '英文': 71, '數學': 95},\n",
       " {'姓名': '詹忠光', '國文': 99, '英文': 64, '數學': 99},\n",
       " {'姓名': '張牧聿', '國文': 82, '英文': 52, '數學': 60},\n",
       " {'姓名': '盧必妍', '國文': 89, '英文': 61, '數學': 52},\n",
       " {'姓名': '林士凱', '國文': 94, '英文': 61, '數學': 53},\n",
       " {'姓名': '林益妏', '國文': 64, '英文': 50, '數學': 88},\n",
       " {'姓名': '王士銘', '國文': 80, '英文': 67, '數學': 84},\n",
       " {'姓名': '張明惟', '國文': 68, '英文': 57, '數學': 62},\n",
       " {'姓名': '黃名明', '國文': 95, '英文': 80, '數學': 79},\n",
       " {'姓名': '張莉雯', '國文': 62, '英文': 50, '數學': 85},\n",
       " {'姓名': '蔡明平', '國文': 95, '英文': 96, '數學': 80}]"
      ]
     },
     "execution_count": 21,
     "metadata": {},
     "output_type": "execute_result"
    }
   ],
   "source": [
    "students=list()\n",
    "for names in student_name:\n",
    "    chinese=random.randint(50,100)\n",
    "    english=random.randint(50,100)\n",
    "    math=random.randint(50,100)\n",
    "    students.append({'姓名':names,\n",
    "     '國文':chinese,\n",
    "     '英文':english,\n",
    "     '數學':math})\n",
    "students\n",
    "    "
   ]
  },
  {
   "cell_type": "code",
   "execution_count": 24,
   "metadata": {},
   "outputs": [
    {
     "data": {
      "text/plain": [
       "'/workspaces/2024-07-01shilin/lesson11/data/students.csv'"
      ]
     },
     "execution_count": 24,
     "metadata": {},
     "output_type": "execute_result"
    }
   ],
   "source": [
    "import os\n",
    "file_path=os.path.abspath(__name__)\n",
    "current_dir_name=os.path.dirname(file_path)\n",
    "file_position=os.path.join(current_dir_name,'data','students.csv')\n",
    "file_position"
   ]
  },
  {
   "cell_type": "code",
   "execution_count": 26,
   "metadata": {},
   "outputs": [],
   "source": [
    "import csv\n",
    "with open(file_position,mode='w',newline='') as file:\n",
    "    writer=csv.DictWriter(file,['姓名','國文','英文','數學'])\n",
    "    writer.writeheader()\n",
    "    writer.writerows(students)\n"
   ]
  },
  {
   "cell_type": "code",
   "execution_count": 32,
   "metadata": {},
   "outputs": [],
   "source": [
    "import random\n",
    "import os\n",
    "import csv\n",
    "with open('names.txt',encoding='utf-8') as file:\n",
    "    contents:str = file.read()\n",
    "    names:list[str] = contents.split(sep='\\n')\n",
    "    people_name=random.choices(names,k=50)\n",
    "people_name\n",
    "\n",
    "peoples=list()\n",
    "for names in student_name:\n",
    "    height=random.randint(150,190)\n",
    "    weight=random.randint(50,90)\n",
    "    BMI=round(weight/(height/100)**2)\n",
    "    peoples.append({'姓名':names,\n",
    "     '身高':height,\n",
    "     '體重':weight,\n",
    "     'BMI':BMI})\n",
    "peoples\n",
    "\n",
    "file_path=os.path.abspath(__name__)\n",
    "current_dir_name=os.path.dirname(file_path)\n",
    "file_position=os.path.join(current_dir_name,'data','peoples.csv')\n",
    "file_position\n",
    "\n",
    "with open(file_position,mode='w',newline='') as file:\n",
    "    writer=csv.DictWriter(file,['姓名','身高','體重','BMI'])\n",
    "    writer.writeheader()\n",
    "    writer.writerows(peoples)\n",
    "\n",
    "\n",
    "    "
   ]
  }
 ],
 "metadata": {
  "kernelspec": {
   "display_name": "Python 3",
   "language": "python",
   "name": "python3"
  },
  "language_info": {
   "codemirror_mode": {
    "name": "ipython",
    "version": 3
   },
   "file_extension": ".py",
   "mimetype": "text/x-python",
   "name": "python",
   "nbconvert_exporter": "python",
   "pygments_lexer": "ipython3",
   "version": "3.10.13"
  }
 },
 "nbformat": 4,
 "nbformat_minor": 2
}
