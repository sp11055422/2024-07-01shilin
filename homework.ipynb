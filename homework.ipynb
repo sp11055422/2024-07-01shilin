{
 "cells": [
  {
   "cell_type": "code",
   "execution_count": 5,
   "metadata": {},
   "outputs": [
    {
     "name": "stdout",
     "output_type": "stream",
     "text": [
      "請輸入姓名請輸入身高請輸入體重你的名子是yang\n",
      "體重是60公斤\n",
      "身高是170公尺\n",
      "BMI是20.76\n",
      "體重適中\n",
      "請輸入姓名"
     ]
    }
   ],
   "source": [
    "import pyinputplus as pyip\n",
    "while True:\n",
    "    name = pyip.inputStr(\"請輸入姓名\")\n",
    "    h= pyip.inputNum('請輸入身高')\n",
    "    a= pyip.inputNum('請輸入體重')\n",
    "    BMI=a/(h/100)**2\n",
    "    g=round(BMI,ndigits=2)\n",
    "    if BMI<18.5:\n",
    "         print(f\"你的名子是{name}\\n體重是{a}\\n身高是{h}\\n體重過輕\")\n",
    "    if 18.5<=BMI<24:\n",
    "                print(f\"你的名子是{name}\\n體重是{a}公斤\\n身高是{h}公尺\\nBMI是{g}\\n體重適中\")\n",
    "    if BMI>=35:\n",
    "                print(f\"你的名子是{name}\\n體重是{a}公斤\\n身高是{h}公尺\\nBMI是{g}\\n重度肥胖\")\n",
    "    elif BMI>=30:\n",
    "                print(f\"你的名子是{name}\\n體重是{a}公斤\\n身高是{h}公尺\\nBMI是{g}\\n中度肥胖\")\n",
    "    elif BMI>=27:\n",
    "                print(f\"你的名子是{name}\\n體重是{a}公斤\\n身高是{h}公尺\\nBMI是{g}\\n輕度肥胖\")\n",
    "    elif BMI>=24:\n",
    "                print(f\"你的名子是{name}\\n體重是{a}公斤\\n身高是{h}公尺\\nBMI是{g}\\n體重過重\")\n",
    "    y=input(\"請問是否繼續(c,q)\")\n",
    "    if y==\"q\":\n",
    "         break\n",
    "    if y==\"c\":\n",
    "            continue\n",
    "    else:\n",
    "        print(\"輸入格式有誤,請重新輸入\")\n",
    "        continue\n",
    "print(\"應用程式結束\")\n",
    "\n"
   ]
  },
  {
   "cell_type": "code",
   "execution_count": 2,
   "metadata": {},
   "outputs": [
    {
     "name": "stdout",
     "output_type": "stream",
     "text": [
      "我是Person的實體,yang kai xuan\n",
      "我是Person的實體,lin\n"
     ]
    }
   ],
   "source": [
    "class Person():\n",
    "    def __init__(self,n:str):\n",
    "        self.name=n\n",
    "    def __repr__(self):\n",
    "        return f'我是Person的實體,{self.name}'\n",
    "        \n",
    "p1=Person('yang kai xuan')\n",
    "print(p1)\n",
    "\n",
    "p2=Person('lin')\n",
    "print(p2)"
   ]
  },
  {
   "cell_type": "code",
   "execution_count": 12,
   "metadata": {},
   "outputs": [
    {
     "name": "stdout",
     "output_type": "stream",
     "text": [
      "楊同學\n",
      "80\n",
      "50\n",
      "我是Student的實體\n",
      "130\n",
      "43.333333333333336\n",
      "===========\n",
      "林同學\n",
      "77\n",
      "40\n",
      "我是Student的實體\n",
      "117\n",
      "39.0\n"
     ]
    }
   ],
   "source": [
    "class Student(Person):\n",
    "    def __init__(self,n:str,ch:int,ma=50):\n",
    "        super().__init__(n=n)\n",
    "        self.chinese=ch\n",
    "        self.math=ma\n",
    "    def __repr__(self):\n",
    "        return '我是Student的實體'\n",
    "    def sum(self) -> int:\n",
    "        return self.chinese+self.math\n",
    "    def average(self)->float:\n",
    "        return self.sum()/3\n",
    "\n",
    "        \n",
    "s1=Student('楊同學',ch=80)\n",
    "print(s1.name)\n",
    "print(s1.chinese)\n",
    "print(s1.math)\n",
    "print(s1)\n",
    "print(s1.sum())\n",
    "print(s1.sum()/3)\n",
    "print('===========')\n",
    "\n",
    "s2 =Student('林同學',ch=77,ma=40)\n",
    "print(s2.name)\n",
    "print(s2.chinese)\n",
    "print(s2.math)\n",
    "print(s2)\n",
    "print(s2.sum())\n",
    "print(s2.sum()/3)\n",
    "\n"
   ]
  },
  {
   "cell_type": "code",
   "execution_count": 13,
   "metadata": {},
   "outputs": [],
   "source": [
    "class Person():\n",
    "    def __init__(self,n:str,he:int,we:int):\n",
    "        self.name=n\n",
    "        self.height=he\n",
    "        self.weight=we\n",
    "    name=input(\"n\")\n",
    "    height=input(\"he\")\n",
    "    weight=input(\"we\")\n",
    "    p1=Person(n=name,he=height,we=weight)\n",
    "    print(p1.name)\n",
    "    print(p1.height)\n",
    "    print(p1.weight)\n",
    "\n",
    "\n",
    "        \n"
   ]
  }
 ],
 "metadata": {
  "kernelspec": {
   "display_name": "Python 3",
   "language": "python",
   "name": "python3"
  },
  "language_info": {
   "codemirror_mode": {
    "name": "ipython",
    "version": 3
   },
   "file_extension": ".py",
   "mimetype": "text/x-python",
   "name": "python",
   "nbconvert_exporter": "python",
   "pygments_lexer": "ipython3",
   "version": "3.10.13"
  }
 },
 "nbformat": 4,
 "nbformat_minor": 2
}
